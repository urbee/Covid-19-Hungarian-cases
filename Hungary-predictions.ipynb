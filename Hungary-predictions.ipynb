{
 "cells": [
  {
   "cell_type": "code",
   "execution_count": 49,
   "metadata": {},
   "outputs": [],
   "source": [
    "import numpy as np\n",
    "import scipy.optimize as opt\n",
    "import matplotlib.pyplot as plt\n",
    "import pandas as pd\n",
    "%matplotlib inline"
   ]
  },
  {
   "cell_type": "markdown",
   "metadata": {},
   "source": [
    "# The setup"
   ]
  },
  {
   "cell_type": "markdown",
   "metadata": {},
   "source": [
    "The purpose is to fit a *logistic*, an *exponential* and a *Generalized Richards Model (GRM)* to the daily number of registered Hungarian Covid-19 cases.\n",
    "\n",
    "These functions have the following forms:\n",
    "\n",
    "Logistic $$f_{logit}(x) = \\frac{a}{1 + b * e^{-c * x}} + d$$\n",
    "\n",
    "Exponential $$f_{exp}(x) = z * e^{v * x} + w$$\n",
    "\n",
    "where $x$ is the number of days since he first registered patient, $a, b, c, z, v$ are parameters to estimate, $d$ and $w$ are initial number of patients. Given the number of cases was initially zero $d=w=0$.\n",
    "\n",
    "Generalized Richards Model (GRM) $$\\frac{dC(t)}{dt} = r*C^p(t)*\\left(1-\\left(\\frac{C(t)}{K} \\right)^\\alpha\\right)$$\n",
    "\n",
    "which described the number of new cases $C(t)$ at $t$. $C(0)$ is the umber of initial cases, while we will estimate $r, p, K$ and \\$alpha$.  "
   ]
  },
  {
   "cell_type": "markdown",
   "metadata": {},
   "source": [
    "Logistic"
   ]
  },
  {
   "cell_type": "code",
   "execution_count": 913,
   "metadata": {},
   "outputs": [],
   "source": [
    "def f_logit(x, a, b, c):\n",
    "    return a / (1. + b * np.exp(-c * x))"
   ]
  },
  {
   "cell_type": "markdown",
   "metadata": {},
   "source": [
    "Exponential"
   ]
  },
  {
   "cell_type": "code",
   "execution_count": 914,
   "metadata": {},
   "outputs": [],
   "source": [
    "def f_exp(x, z, v):\n",
    "    return z * np.exp(v * x)"
   ]
  },
  {
   "cell_type": "markdown",
   "metadata": {},
   "source": [
    "Generalized Richards Model (GRM)\n",
    "\n",
    "For more details see Ke Wu et al. \n",
    "https://arxiv.org/ftp/arxiv/papers/2003/2003.05681.pdf"
   ]
  },
  {
   "cell_type": "code",
   "execution_count": 1146,
   "metadata": {},
   "outputs": [],
   "source": [
    "#The dynamics\n",
    "def velocity_GRM(Ct, K, r, p, alpha):\n",
    "    return r*(Ct**p)*(1-(Ct/K)**alpha)\n",
    "\n",
    "def f_GRM(x, C0, K, r, p, alpha):\n",
    "    output = []\n",
    "    for xi in x:\n",
    "        evolution = [C0]\n",
    "        for n in range(0,xi):\n",
    "            if n>0:\n",
    "                evolution.append(velocity_GRM(np.cumsum(evolution)[n-1], K, r, p, alpha))\n",
    "                #print(np.cumsum(evolution)[n-1])\n",
    "        output.append(sum(evolution))\n",
    "    return output"
   ]
  },
  {
   "cell_type": "code",
   "execution_count": 1145,
   "metadata": {},
   "outputs": [
    {
     "data": {
      "text/plain": [
       "[99.99999999999999]"
      ]
     },
     "execution_count": 1145,
     "metadata": {},
     "output_type": "execute_result"
    }
   ],
   "source": [
    "f_GRM([10000], 2, 100, 0.25, 1, 1)"
   ]
  },
  {
   "cell_type": "markdown",
   "metadata": {},
   "source": [
    "# Data"
   ]
  },
  {
   "cell_type": "markdown",
   "metadata": {},
   "source": [
    "Because I did not find official sources I scraped the Hunarian wikipedia page:\n",
    "https://hu.wikipedia.org/wiki/2020-as_COVID-19_koronav%C3%ADrus-j%C3%A1rv%C3%A1ny_Magyarorsz%C3%A1gon"
   ]
  },
  {
   "cell_type": "code",
   "execution_count": 1122,
   "metadata": {},
   "outputs": [],
   "source": [
    "import requests\n",
    "import lxml.html as lh\n",
    "\n",
    "url='https://hu.wikipedia.org/wiki/2020-as_COVID-19_koronav%C3%ADrus-j%C3%A1rv%C3%A1ny_Magyarorsz%C3%A1gon'\n",
    "\n",
    "#Create a handle, page, to handle the contents of the website\n",
    "page = requests.get(url)\n",
    "\n",
    "#Store the contents of the website under doc\n",
    "doc = lh.fromstring(page.content)\n",
    "\n",
    "#Parse data that are stored between <tr>..</tr> of HTML\n",
    "tr_elements = doc.xpath('//tr')"
   ]
  },
  {
   "cell_type": "markdown",
   "metadata": {},
   "source": [
    "Sanity check"
   ]
  },
  {
   "cell_type": "code",
   "execution_count": 1123,
   "metadata": {},
   "outputs": [
    {
     "data": {
      "text/plain": [
       "[2, 2, 6, 6, 6, 6, 6, 6, 6, 6, 6, 6]"
      ]
     },
     "execution_count": 1123,
     "metadata": {},
     "output_type": "execute_result"
    }
   ],
   "source": [
    "#For sanity check see the length of the first 12 rows\n",
    "[len(T) for T in tr_elements[:12]]"
   ]
  },
  {
   "cell_type": "markdown",
   "metadata": {},
   "source": [
    "Processing the header"
   ]
  },
  {
   "cell_type": "code",
   "execution_count": 1124,
   "metadata": {},
   "outputs": [],
   "source": [
    "#At the time of the implementation the first 3 rows contain a disclaimer\n",
    "table_starts_at = 2\n",
    "\n",
    "#Create empty list\n",
    "col=[]\n",
    "i=0\n",
    "\n",
    "#For each row, store each first element (header) and an empty list\n",
    "for t in tr_elements[table_starts_at]:\n",
    "    i+=1\n",
    "    name=t.text_content()\n",
    "    col.append((name,[]))"
   ]
  },
  {
   "cell_type": "markdown",
   "metadata": {},
   "source": [
    "Processing the body"
   ]
  },
  {
   "cell_type": "code",
   "execution_count": 1125,
   "metadata": {},
   "outputs": [],
   "source": [
    "#Since out first row is the header, data is stored on the second row onwards\n",
    "for j in range(table_starts_at+1,len(tr_elements)):\n",
    "    #T is our j'th row\n",
    "    T=tr_elements[j]\n",
    "    \n",
    "    #If row is not of size 6, the //tr data is not from our table \n",
    "    if len(T)!=6:\n",
    "        print('Length of row {} is different from 6 cells'.format(j-table_starts_at))\n",
    "        break\n",
    "    \n",
    "    #i is the index of our column\n",
    "    i=0\n",
    "    \n",
    "    #Iterate through each element of the row\n",
    "    for t in T.iterchildren():\n",
    "        data=t.text_content() \n",
    "        #Check if row is empty\n",
    "        if i>0:\n",
    "        #Convert any numerical value to integers\n",
    "            try:\n",
    "                data=int(data)\n",
    "            except:\n",
    "                pass\n",
    "        #Append the data to the empty list of the i'th column\n",
    "        col[i][1].append(data)\n",
    "        #Increment i for the next column\n",
    "        i+=1"
   ]
  },
  {
   "cell_type": "markdown",
   "metadata": {},
   "source": [
    "Sanity check"
   ]
  },
  {
   "cell_type": "code",
   "execution_count": 1126,
   "metadata": {},
   "outputs": [
    {
     "data": {
      "text/plain": [
       "[20, 20, 20, 20, 20, 20]"
      ]
     },
     "execution_count": 1126,
     "metadata": {},
     "output_type": "execute_result"
    }
   ],
   "source": [
    "#Check the length of each column\n",
    "[len(C) for (title,C) in col]"
   ]
  },
  {
   "cell_type": "markdown",
   "metadata": {},
   "source": [
    "Dataframe"
   ]
  },
  {
   "cell_type": "code",
   "execution_count": 1127,
   "metadata": {},
   "outputs": [
    {
     "data": {
      "text/plain": [
       "[('Dátum[154]\\n',\n",
       "  ['2020‑03‑04',\n",
       "   '2020-03-05',\n",
       "   '2020-03-06',\n",
       "   '2020-03-07',\n",
       "   '2020-03-08',\n",
       "   '2020-03-09',\n",
       "   '2020-03-10',\n",
       "   '2020-03-11',\n",
       "   '2020-03-12',\n",
       "   '2020-03-13',\n",
       "   '2020-03-14',\n",
       "   '2020-03-15',\n",
       "   '2020-03-16',\n",
       "   '2020-03-17',\n",
       "   '2020-03-18',\n",
       "   '2020-03-19',\n",
       "   '2020-03-20',\n",
       "   '2020-03-21',\n",
       "   '2020-03-22',\n",
       "   '2020-03-23']),\n",
       " ('Regisztrált fertőzött\\n',\n",
       "  [2,\n",
       "   4,\n",
       "   4,\n",
       "   5,\n",
       "   7,\n",
       "   9,\n",
       "   12,\n",
       "   13,\n",
       "   15,\n",
       "   18,\n",
       "   29,\n",
       "   30,\n",
       "   36,\n",
       "   47,\n",
       "   55,\n",
       "   70,\n",
       "   74,\n",
       "   92,\n",
       "   109,\n",
       "   138]),\n",
       " ('Elhunyt\\n', [0, 0, 0, 0, 0, 0, 0, 0, 0, 0, 0, 1, 1, 1, 1, 1, 4, 4, 6, 8]),\n",
       " ('Gyógyult\\n',\n",
       "  [0, 0, 0, 0, 0, 0, 0, 0, 1, 1, 1, 1, 2, 2, 2, 2, 7, 7, 16, 21]),\n",
       " ('Összesen\\n',\n",
       "  [2,\n",
       "   4,\n",
       "   4,\n",
       "   5,\n",
       "   7,\n",
       "   9,\n",
       "   12,\n",
       "   13,\n",
       "   16,\n",
       "   19,\n",
       "   30,\n",
       "   32,\n",
       "   39,\n",
       "   50,\n",
       "   58,\n",
       "   73,\n",
       "   85,\n",
       "   103,\n",
       "   131,\n",
       "   167]),\n",
       " ('Megjegyzés\\n',\n",
       "  ['Orbán Viktor miniszterelnök rendkívüli bejelentése: két koronavírussal fertőzött beteg van Magyarországon.[155]\\n',\n",
       "   '\\n',\n",
       "   '39 ember karanténban, és 269 mintavétel történt.[156]\\n',\n",
       "   '\\n',\n",
       "   'A koronavírus által fertőzött hét beteg közül 4 iráni, 1 brit, és 2 magyar állampolgár.[157]\\n',\n",
       "   '\\n',\n",
       "   '\\n',\n",
       "   '\\n',\n",
       "   'Szlávik János a Dél-pesti Centrumkórház infektológiai osztályának vezetője közölte, hogy meggyógyult az egyik, karanténban lévő iráni állampolgár. A sorozatban elvégzett tesztjei negatívak lettek.[158]\\n',\n",
       "   '\\n',\n",
       "   '\\n',\n",
       "   'Egy 75 éves magyar férfi elhunyt a SARS-CoV-2 koronavírus fertőzés következtében kialakult COVID-19 betegség következtében.[5]\\n',\n",
       "   'A második gyógyult beteg, egy iráni állampolgár elhagyhatta a karanténkórházat.[159]\\n',\n",
       "   'Az új koronavírus-fertőzöttetek száma elérte az 50-et, közülük 9 iráni, 1 brit, 1 kazah és 39 magyar állampolgár. 16-án a második iráni gyógyult is távozott a kórházból. [160]\\n',\n",
       "   'Az 58 igazolt fertőzött közül 47 magyar, 9 iráni, 1 brit, 1 pedig kazah állampolgár.[161]\\n',\n",
       "   'A 73 igazolt fertőzött közül 9 iráni, 1 brit, 1 kazah és 62 magyar állampolgár.[162] Hat fertőzött beteg van súlyos állapotban, akiket intenzív osztályon kezelnek a Dél-Pesti Centrumkórházban.[163]\\n',\n",
       "   'A 85 igazolt fertőzött közül 10 iráni, 1 brit, 1 kazah és 73 magyar állampolgár.[164] Az esetek közül 6 súlyos, és hét gyógyult.[165] A nap folyamán 2 fertőzött személy, egy 79 éves és egy 68 éves magyar férfi elhunyt.[166] Este egy 53 éves magyar férfi hunyt el, aki többszörös krónikus betegségben szenvedett.[167]\\n',\n",
       "   'A  új koronavírus-fertőzöttek száma: 103 fő. Közülük 10 iráni, 2 brit, 1 kazah, 1 vietnámi és 89 magyar állampolgár.[168]\\n',\n",
       "   'A beazonosított új koronavírus-fertőzöttek száma: 131 fő. Közülük 10 iráni, 2 brit, 1 kazah, 1 vietnámi és 117 magyar állampolgár. Újabb 4 gyógyult távozhatott a budapesti Szent László Kórházból[169][170] . Egy 65 éves és egy 75 éves magyar nő hunyt el a fertőzés következtében.[171]\\n',\n",
       "   'A csoportos megbetegedések szakaszához ért a járvány. Újabb idős betegek haltak meg. A beazonosított új koronavírus-fertőzöttek száma: 167 fő. Közülük 10 iráni, 2 brit, 1 kazah, 1 vietnámi és 153 magyar állampolgár.[172]\\n'])]"
      ]
     },
     "execution_count": 1127,
     "metadata": {},
     "output_type": "execute_result"
    }
   ],
   "source": [
    "col"
   ]
  },
  {
   "cell_type": "code",
   "execution_count": 1128,
   "metadata": {},
   "outputs": [],
   "source": [
    "Dict={title:column for (title,column) in col}\n",
    "df=pd.DataFrame(Dict)\n",
    "\n",
    "# English header\n",
    "df.columns = ['Date', 'Sick','Died','Recovered','Total','Note']\n",
    "\n",
    "\n",
    "# Store the number of days since onset\n",
    "df.reset_index(inplace=True)\n",
    "df.set_index('Date',inplace=True)\n",
    "\n",
    "df.rename(columns={ df.columns[0]: \"Day\" }, inplace = True)"
   ]
  },
  {
   "cell_type": "code",
   "execution_count": 1129,
   "metadata": {},
   "outputs": [
    {
     "data": {
      "text/plain": [
       "(array([ 0. ,  2.5,  5. ,  7.5, 10. , 12.5, 15. , 17.5, 20. ]),\n",
       " <a list of 9 Text xticklabel objects>)"
      ]
     },
     "execution_count": 1129,
     "metadata": {},
     "output_type": "execute_result"
    },
    {
     "data": {
      "image/png": "[encoded data removed]",
      "text/plain": [
       "<Figure size 720x360 with 1 Axes>"
      ]
     },
     "metadata": {
      "needs_background": "light"
     },
     "output_type": "display_data"
    }
   ],
   "source": [
    "df.plot(figsize=(10,5))\n",
    "plt.xlabel('Date')\n",
    "plt.ylabel('Num. of patients')\n",
    "plt.title('Number of Covid-19 patients in Hungary')\n",
    "degrees = 70\n",
    "plt.xticks(rotation=degrees)"
   ]
  },
  {
   "cell_type": "markdown",
   "metadata": {},
   "source": [
    "# Curve fitting"
   ]
  },
  {
   "cell_type": "markdown",
   "metadata": {},
   "source": [
    "Exponential"
   ]
  },
  {
   "cell_type": "code",
   "execution_count": 1130,
   "metadata": {},
   "outputs": [],
   "source": [
    "parameters_exp, pcov_exp  = opt.curve_fit(f_exp, df['Day'].to_numpy()+1, df['Total'].to_numpy())\n",
    "perr_exp = np.sqrt(np.diag(pcov_exp))\n",
    "\n",
    "extrapol_horizon = 3\n",
    "long_extrapol_horizon = 14\n",
    "\n",
    "fitting_horizon = np.array(range(1,np.max(df['Day'].to_numpy()+2)+extrapol_horizon))\n",
    "long_fitting_horizon = np.array(range(1,np.max(df['Day'].to_numpy()+2)+long_extrapol_horizon))\n",
    "\n",
    "y_fit_exp = f_exp(fitting_horizon, *parameters_exp)\n",
    "long_y_fit_exp = f_exp(long_fitting_horizon, *parameters_exp)\n",
    "\n",
    "#Fit a version on older data to see the changes of predictions\n",
    "parameters_exp_old, pcov_exp_old  = opt.curve_fit(f_exp, df['Day'].to_numpy()[:-5]+1, df['Total'].to_numpy()[:-5])\n",
    "long_y_fit_exp_old = f_exp(long_fitting_horizon, *parameters_exp_old)\n",
    "\n",
    "#Dates\n",
    "times = pd.date_range('2020-03-04', periods=len(df['Day'])+extrapol_horizon, freq='D')\n",
    "long_times = pd.date_range('2020-03-04', periods=len(df['Day'])+long_extrapol_horizon, freq='D')"
   ]
  },
  {
   "cell_type": "code",
   "execution_count": 1131,
   "metadata": {},
   "outputs": [
    {
     "data": {
      "text/plain": [
       "array([2.60675209, 0.20682873])"
      ]
     },
     "execution_count": 1131,
     "metadata": {},
     "output_type": "execute_result"
    }
   ],
   "source": [
    "parameters_exp"
   ]
  },
  {
   "cell_type": "code",
   "execution_count": 1132,
   "metadata": {},
   "outputs": [
    {
     "data": {
      "text/plain": [
       "array([2.58001618, 0.20944485])"
      ]
     },
     "execution_count": 1132,
     "metadata": {},
     "output_type": "execute_result"
    }
   ],
   "source": [
    "parameters_exp_old"
   ]
  },
  {
   "cell_type": "markdown",
   "metadata": {},
   "source": [
    "Confidece intervals"
   ]
  },
  {
   "cell_type": "code",
   "execution_count": 1133,
   "metadata": {},
   "outputs": [],
   "source": [
    "# prepare confidence level curves\n",
    "nstd = 1. # to draw 1-sigma intervals\n",
    "parameters_exp_up = parameters_exp + nstd * perr_exp\n",
    "parameters_exp_dw = parameters_exp - nstd * perr_exp\n",
    "\n",
    "fit_up = f_exp(fitting_horizon, *parameters_exp_up)\n",
    "fit_dw = f_exp(fitting_horizon, *parameters_exp_dw)"
   ]
  },
  {
   "cell_type": "code",
   "execution_count": 1134,
   "metadata": {},
   "outputs": [
    {
     "data": {
      "text/plain": [
       "array([2.447654  , 0.20347698])"
      ]
     },
     "execution_count": 1134,
     "metadata": {},
     "output_type": "execute_result"
    }
   ],
   "source": [
    "parameters_exp_dw"
   ]
  },
  {
   "cell_type": "code",
   "execution_count": 1135,
   "metadata": {},
   "outputs": [
    {
     "data": {
      "text/plain": [
       "array([2.60675209, 0.20682873])"
      ]
     },
     "execution_count": 1135,
     "metadata": {},
     "output_type": "execute_result"
    }
   ],
   "source": [
    "parameters_exp"
   ]
  },
  {
   "cell_type": "markdown",
   "metadata": {},
   "source": [
    "Sigmoid"
   ]
  },
  {
   "cell_type": "code",
   "execution_count": 1230,
   "metadata": {},
   "outputs": [],
   "source": [
    "#parameters_logit = np.array([1200,1000,0.26])\n",
    "# a is the final epidemic size\n",
    "# b is related to C0, doesn't affect the later evlution of the process \n",
    "# c is the growth rate at the early stage\n",
    "\n",
    "parameters_logit, pcov_logit  = opt.curve_fit(f_logit, df['Day'].to_numpy()+1, df['Total'].to_numpy(),bounds=([100,100,0.2], [10e6,10e6,0.3]))\n",
    "perr_logit = np.sqrt(np.diag(pcov_logit))\n",
    "\n",
    "y_fit_logit = f_logit(fitting_horizon, *parameters_logit)\n",
    "long_y_fit_logit = f_logit(long_fitting_horizon, *parameters_logit)\n",
    "\n",
    "# #Fit a version on older data to see the changes of predictions\n",
    "parameters_logit_old, pcov_logit_old  = opt.curve_fit(f_logit, df['Day'].to_numpy()[:-5]+1, df['Total'].to_numpy()[:-5])\n",
    "long_y_fit_logit_old = f_logit(long_fitting_horizon, *parameters_logit_old)"
   ]
  },
  {
   "cell_type": "code",
   "execution_count": 1232,
   "metadata": {},
   "outputs": [
    {
     "data": {
      "text/plain": [
       "array([9.99995754e+06, 3.83624140e+06, 2.06830347e-01])"
      ]
     },
     "execution_count": 1232,
     "metadata": {},
     "output_type": "execute_result"
    }
   ],
   "source": [
    "parameters_logit"
   ]
  },
  {
   "cell_type": "code",
   "execution_count": 1234,
   "metadata": {},
   "outputs": [
    {
     "data": {
      "text/plain": [
       "array([206.46026124, 101.9433382 ,   0.24636847])"
      ]
     },
     "execution_count": 1234,
     "metadata": {},
     "output_type": "execute_result"
    }
   ],
   "source": [
    "parameters_logit_old"
   ]
  },
  {
   "cell_type": "code",
   "execution_count": 1224,
   "metadata": {},
   "outputs": [
    {
     "data": {
      "text/plain": [
       "array([3.83602512e+21, 5.64522717e+20, 1.17298638e-04])"
      ]
     },
     "execution_count": 1224,
     "metadata": {},
     "output_type": "execute_result"
    }
   ],
   "source": [
    "np.diag(pcov_logit)"
   ]
  },
  {
   "cell_type": "markdown",
   "metadata": {},
   "source": [
    "Generalized Richards Model (GRM)\n",
    "\n",
    "Parameters guesses are based on Ke Wu et al. \n",
    "https://arxiv.org/ftp/arxiv/papers/2003/2003.05681.pdf"
   ]
  },
  {
   "cell_type": "code",
   "execution_count": 1246,
   "metadata": {},
   "outputs": [
    {
     "name": "stdout",
     "output_type": "stream",
     "text": [
      "0.23233611903562254\n"
     ]
    }
   ],
   "source": [
    "# C0 is the number of initial cases\n",
    "# K is the final epidemic size\n",
    "# r is the growth rate at the early stage\n",
    "# p is a parameter that allows the model to capture different growth profiles (e.g. sub-exp, exponential)\n",
    "# alpha measures the deviation from the symmetric s-shaped dynamics of the simple logistic curve\n",
    "\n",
    "C0 = df['Total'].to_numpy()[0]\n",
    "K = 1200 #Hopefully lower than the original Chinese (excl. Hubei) sample K~13.000 in Ke Wu et al.\n",
    "\n",
    "r_empiricial = (np.log(df['Total'].to_numpy()[18])-np.log(df['Total'].to_numpy()[0]))/18\n",
    "print(r_empiricial)\n",
    "r = 0.23 #4.87 in Ke Wu et al. \n",
    "\n",
    "p = 1 #0.63 in Ke Wu et al., p=1 logistic case \n",
    "alpha = 1 #1.42 in Ke Wu et al., alpha=1 logistic case  \n",
    "\n",
    "parameters_GRM = (C0,K,r,p,alpha)\n",
    "parameters_GRM, pcov_GRM  = opt.curve_fit(f_GRM, df['Day'].to_numpy()+1, df['Total'].to_numpy(),p0=parameters_GRM,bounds=([1.99,100,0.2,0.5,0.5], [2,10e6,5,1,5]))\n",
    "\n",
    "y_fit_GRM = f_GRM(fitting_horizon, *parameters_GRM)\n",
    "long_y_fit_GRM = f_GRM(long_fitting_horizon, *parameters_GRM)"
   ]
  },
  {
   "cell_type": "code",
   "execution_count": 1247,
   "metadata": {},
   "outputs": [
    {
     "data": {
      "text/plain": [
       "array([2.00000000e+00, 8.44419702e+03, 3.32236463e-01, 9.14025581e-01,\n",
       "       4.90160657e+00])"
      ]
     },
     "execution_count": 1247,
     "metadata": {},
     "output_type": "execute_result"
    }
   ],
   "source": [
    "parameters_GRM"
   ]
  },
  {
   "cell_type": "code",
   "execution_count": 1248,
   "metadata": {},
   "outputs": [
    {
     "data": {
      "text/plain": [
       "0.23233611903562254"
      ]
     },
     "execution_count": 1248,
     "metadata": {},
     "output_type": "execute_result"
    }
   ],
   "source": [
    "r_empiricial"
   ]
  },
  {
   "cell_type": "markdown",
   "metadata": {},
   "source": [
    "# Plots"
   ]
  },
  {
   "cell_type": "markdown",
   "metadata": {},
   "source": [
    "Generate ldate labels"
   ]
  },
  {
   "cell_type": "code",
   "execution_count": 1249,
   "metadata": {},
   "outputs": [],
   "source": [
    "observed_dates = times[:len(df['Total'])].strftime(\"%m/%d\")\n",
    "all_dates = times.strftime(\"%m/%d\")\n",
    "long_all_dates = long_times.strftime(\"%m/%d\")"
   ]
  },
  {
   "cell_type": "markdown",
   "metadata": {},
   "source": [
    "Plotting"
   ]
  },
  {
   "cell_type": "code",
   "execution_count": 1250,
   "metadata": {},
   "outputs": [
    {
     "data": {
      "text/plain": [
       "<matplotlib.legend.Legend at 0x25cfef36cc0>"
      ]
     },
     "execution_count": 1250,
     "metadata": {},
     "output_type": "execute_result"
    },
    {
     "data": {
      "image/png": "[encoded data removed]",
      "text/plain": [
       "<Figure size 1080x432 with 3 Axes>"
      ]
     },
     "metadata": {
      "needs_background": "light"
     },
     "output_type": "display_data"
    }
   ],
   "source": [
    "degrees = 70\n",
    "\n",
    "fig = plt.figure(figsize=(15, 6),constrained_layout=True)\n",
    "gs = fig.add_gridspec(2, 9)\n",
    "\n",
    "ax1= fig.add_subplot(gs[:, 5:9])\n",
    "ax1.plot(observed_dates,df['Total'],linewidth=4,label='Confirmed cases')\n",
    "ax1.plot(long_all_dates,long_y_fit_exp,color='orange',label='Exponential (latest)')\n",
    "ax1.plot(long_all_dates,long_y_fit_logit,color='green',label='Logistic curve')\n",
    "ax1.plot(long_all_dates,long_y_fit_GRM,color='red',label='GRM curve')\n",
    "\n",
    "ax1.plot(long_all_dates,long_y_fit_exp_old,'--',color='orange',label='Exponential (5-days old)',alpha=0.6)\n",
    "ax1.plot(long_all_dates,long_y_fit_logit_old,'--',color='green',label='Logistic (5-days old)',alpha=0.6)\n",
    "\n",
    "ax1.set_xticks(ax1.get_xticks()[::5])\n",
    "ax1.set_xticklabels(long_all_dates[::5],rotation=degrees)\n",
    "\n",
    "ax1.legend(loc='best')\n",
    "\n",
    "ax1.axvline(long_all_dates[-long_extrapol_horizon-1],linestyle='dashed',linewidth=1,label='Today')\n",
    "ax1.annotate('Today',xy=(long_all_dates[-long_extrapol_horizon-1],5))\n",
    "ax1.set(ylabel='Estimated num. of cases')\n",
    "ax1.set(title='Predicted number of Covid-19 patients')\n",
    "\n",
    "\n",
    "ax1.annotate('${}*exp({}*x)$'.format(round(parameters_exp[0],2),round(parameters_exp[1],2)),xy=(long_all_dates[-1:],long_y_fit_exp[-1:]))\n",
    "ax1.annotate('${}*exp({}*x)$'.format(round(parameters_exp_old[0],2),round(parameters_exp_old[1],2)),xy=(long_all_dates[-1:],long_y_fit_exp_old[-1:]))\n",
    "ax1.annotate('${}/(1+{} * exp(-{}*x))$'.format(round(parameters_logit[0],2),round(parameters_logit[1],2),round(parameters_logit[2],2)),xy=(long_all_dates[-1:],long_y_fit_logit[-1:]))\n",
    "\n",
    "\n",
    "#ax1.set_yscale('log')\n",
    "\n",
    "\n",
    "#--------------------\n",
    "\n",
    "ax2 = fig.add_subplot(gs[0, 0:5])\n",
    "ax2.plot(observed_dates,df['Total'],linewidth=4,label='Confirmed cases')\n",
    "ax2.get_xaxis().set_ticks([])\n",
    "\n",
    "ax2.set(ylabel='Num. of cases')\n",
    "ax2.set(title='Total number of Covid-19 patients in Hungary')\n",
    "\n",
    "\n",
    "ax2.plot(all_dates,y_fit_exp,'--',label='Exponential curve')\n",
    "ax2.plot(all_dates,y_fit_logit,'--',label='Logistic curve')\n",
    "ax2.plot(all_dates,y_fit_GRM,'--',label='GRM curve')\n",
    "\n",
    "for i,j in zip(all_dates[-extrapol_horizon:],y_fit_exp[-extrapol_horizon:]):\n",
    "    ax2.annotate(str(round(j)),xy=(i,j))\n",
    "\n",
    "ax2.fill_between(all_dates, fit_up, fit_dw, alpha=.25, label='1-sigma interval',color='orange')\n",
    "#ax2.set_yscale('log')\n",
    "ax2.legend(loc='best')\n",
    "\n",
    "ax2.axvline(all_dates[-extrapol_horizon-1],linestyle='dashed',linewidth=1,label='Today')\n",
    "ax2.annotate('Today',xy=(all_dates[-extrapol_horizon-1],5))\n",
    "\n",
    "#ax2.annotate('${}*exp({}*x)$'.format(round(parameters_exp[0],2),round(parameters_exp[1],2)),xy=(all_dates[-4],fit_dw[-4]))\n",
    "\n",
    "#--------------------\n",
    "\n",
    "ax3 = fig.add_subplot(gs[1, 0:5])\n",
    "ax3.bar(all_dates,np.concatenate((df['Total'].diff(), np.full(len(all_dates)-len(observed_dates), 0)), axis=0),label='Confirmed new cases')\n",
    "ax3.plot(all_dates,np.concatenate(([np.nan],np.diff(y_fit_exp))),'--',color='orange',marker='o',label='Exponential')\n",
    "ax3.plot(all_dates,np.concatenate(([np.nan],np.diff(y_fit_logit))),'g--',marker='o',label='Logistic')\n",
    "ax3.plot(all_dates,np.concatenate(([np.nan],np.diff(y_fit_GRM))),'r--',marker='o',label='GRM')\n",
    "\n",
    "\n",
    "ax3.set(xlabel='Date')\n",
    "ax3.set(ylabel='Num. of NEW cases')\n",
    "ax3.set(title='Velocity of contagion')\n",
    "ax3.set_xticklabels(all_dates,rotation=degrees)\n",
    "\n",
    "ax3.legend(loc='best')\n",
    "\n"
   ]
  },
  {
   "cell_type": "code",
   "execution_count": 641,
   "metadata": {},
   "outputs": [
    {
     "data": {
      "text/plain": [
       "2"
      ]
     },
     "execution_count": 641,
     "metadata": {},
     "output_type": "execute_result"
    }
   ],
   "source": [
    "df['Total'].to_numpy()[0]"
   ]
  }
 ],
 "metadata": {
  "kernelspec": {
   "display_name": "Python 3",
   "language": "python",
   "name": "python3"
  },
  "language_info": {
   "codemirror_mode": {
    "name": "ipython",
    "version": 3
   },
   "file_extension": ".py",
   "mimetype": "text/x-python",
   "name": "python",
   "nbconvert_exporter": "python",
   "pygments_lexer": "ipython3",
   "version": "3.7.3"
  }
 },
 "nbformat": 4,
 "nbformat_minor": 2
}
