{
 "cells": [
  {
   "cell_type": "code",
   "execution_count": 1329,
   "metadata": {},
   "outputs": [],
   "source": [
    "import numpy as np\n",
    "import scipy.optimize as opt\n",
    "import matplotlib.pyplot as plt\n",
    "import pandas as pd\n",
    "%matplotlib inline"
   ]
  },
  {
   "cell_type": "markdown",
   "metadata": {},
   "source": [
    "# The purpuse"
   ]
  },
  {
   "cell_type": "markdown",
   "metadata": {},
   "source": [
    "If I can see that the evoluton of the pandemic is in line with well-known models of pandemia it makes me calmer because I can understand the underlying processes better. \n",
    "\n",
    "My purpuse was to follow the latest figures and see whether the pandemia turns to better or worse than we expected a few days earlier."
   ]
  },
  {
   "cell_type": "markdown",
   "metadata": {},
   "source": [
    "# The setup"
   ]
  },
  {
   "cell_type": "markdown",
   "metadata": {},
   "source": [
    "The purpose is to fit a *logistic*, an *exponential* and a *Generalized Richards Model (GRM)* to the daily number of registered Hungarian Covid-19 cases.\n",
    "\n",
    "These functions have the following forms:\n",
    "\n",
    "Logistic $$f_{logit}(x) = \\frac{a}{1 + b * e^{-c * x}} + d$$\n",
    "\n",
    "Exponential $$f_{exp}(x) = z * e^{v * x} + w$$\n",
    "\n",
    "where $x$ is the number of days since he first registered patient, $a, b, c, z, v$ are parameters to estimate, $d$ and $w$ are initial number of patients. Given the number of cases was initially zero $d=w=0$.\n",
    "\n",
    "Generalized Richards Model (GRM) $$\\frac{dC(t)}{dt} = r*C^p(t)*\\left(1-\\left(\\frac{C(t)}{K} \\right)^\\alpha\\right)$$\n",
    "\n",
    "which described the number of new cases $C(t)$ at $t$. $C(0)$ is the number of initial cases, while we will estimate $r, p, K$ and \\$alpha$.  "
   ]
  },
  {
   "cell_type": "markdown",
   "metadata": {},
   "source": [
    "Logistic"
   ]
  },
  {
   "cell_type": "code",
   "execution_count": 1303,
   "metadata": {},
   "outputs": [],
   "source": [
    "def f_logit(x, a, b, c):\n",
    "    return a / (1. + b * np.exp(-c * x))"
   ]
  },
  {
   "cell_type": "markdown",
   "metadata": {},
   "source": [
    "Exponential"
   ]
  },
  {
   "cell_type": "code",
   "execution_count": 1299,
   "metadata": {},
   "outputs": [],
   "source": [
    "def f_exp(x, z, v):\n",
    "    return z * np.exp(v * x)"
   ]
  },
  {
   "cell_type": "markdown",
   "metadata": {},
   "source": [
    "Richards' Model (RM)"
   ]
  },
  {
   "cell_type": "code",
   "execution_count": 1312,
   "metadata": {},
   "outputs": [],
   "source": [
    "def f_RM(x, K, Q, r, nu):\n",
    "    return K / ((1. + Q * np.exp(-r * x))**(1/nu))"
   ]
  },
  {
   "cell_type": "code",
   "execution_count": 1325,
   "metadata": {},
   "outputs": [
    {
     "data": {
      "text/plain": [
       "100.0"
      ]
     },
     "execution_count": 1325,
     "metadata": {},
     "output_type": "execute_result"
    }
   ],
   "source": [
    "f_RM(100000, 100, 10000, 0.4, 0.5)"
   ]
  },
  {
   "cell_type": "markdown",
   "metadata": {},
   "source": [
    "Generalized Richards Model (GRM)\n",
    "\n",
    "For more details see Ke Wu et al. \n",
    "https://arxiv.org/ftp/arxiv/papers/2003/2003.05681.pdf"
   ]
  },
  {
   "cell_type": "code",
   "execution_count": 1253,
   "metadata": {},
   "outputs": [],
   "source": [
    "#The dynamics\n",
    "def velocity_GRM(Ct, K, r, p, alpha):\n",
    "    return r*(Ct**p)*(1-(Ct/K)**alpha)\n",
    "\n",
    "def f_GRM(x, C0, K, r, p, alpha):\n",
    "    output = []\n",
    "    for xi in x:\n",
    "        evolution = [C0]\n",
    "        for n in range(0,xi):\n",
    "            if n>0:\n",
    "                evolution.append(velocity_GRM(np.cumsum(evolution)[n-1], K, r, p, alpha))\n",
    "                #print(np.cumsum(evolution)[n-1])\n",
    "        output.append(sum(evolution))\n",
    "    return output"
   ]
  },
  {
   "cell_type": "code",
   "execution_count": 1254,
   "metadata": {},
   "outputs": [
    {
     "data": {
      "text/plain": [
       "[99.99999999999999]"
      ]
     },
     "execution_count": 1254,
     "metadata": {},
     "output_type": "execute_result"
    }
   ],
   "source": [
    "f_GRM([10000], 2, 100, 0.25, 1, 1)"
   ]
  },
  {
   "cell_type": "markdown",
   "metadata": {},
   "source": [
    "# Data"
   ]
  },
  {
   "cell_type": "markdown",
   "metadata": {},
   "source": [
    "Because I did not find official sources I scraped the Hunarian wikipedia page:\n",
    "https://hu.wikipedia.org/wiki/2020-as_COVID-19_koronav%C3%ADrus-j%C3%A1rv%C3%A1ny_Magyarorsz%C3%A1gon"
   ]
  },
  {
   "cell_type": "code",
   "execution_count": 1703,
   "metadata": {},
   "outputs": [],
   "source": [
    "import requests\n",
    "import lxml.html as lh\n",
    "\n",
    "url='https://hu.wikipedia.org/wiki/2020-as_COVID-19_koronav%C3%ADrus-j%C3%A1rv%C3%A1ny_Magyarorsz%C3%A1gon'\n",
    "\n",
    "#Create a handle, page, to handle the contents of the website\n",
    "page = requests.get(url)\n",
    "\n",
    "#Store the contents of the website under doc\n",
    "doc = lh.fromstring(page.content)\n",
    "\n",
    "#Parse data that are stored between <tr>..</tr> of HTML\n",
    "tr_elements = doc.xpath('//tr')"
   ]
  },
  {
   "cell_type": "markdown",
   "metadata": {},
   "source": [
    "Sanity check"
   ]
  },
  {
   "cell_type": "code",
   "execution_count": 1704,
   "metadata": {},
   "outputs": [
    {
     "data": {
      "text/plain": [
       "[2, 6, 6, 6, 6, 6, 6, 6, 6, 6, 6, 6]"
      ]
     },
     "execution_count": 1704,
     "metadata": {},
     "output_type": "execute_result"
    }
   ],
   "source": [
    "#For sanity check see the length of the first 12 rows\n",
    "[len(T) for T in tr_elements[:12]]"
   ]
  },
  {
   "cell_type": "markdown",
   "metadata": {},
   "source": [
    "Processing the header"
   ]
  },
  {
   "cell_type": "code",
   "execution_count": 1705,
   "metadata": {},
   "outputs": [],
   "source": [
    "#At the time of the implementation the first 3 rows contain a disclaimer\n",
    "table_starts_at = 1\n",
    "\n",
    "#Create empty list\n",
    "col=[]\n",
    "i=0\n",
    "\n",
    "#For each row, store each first element (header) and an empty list\n",
    "for t in tr_elements[table_starts_at]:\n",
    "    i+=1\n",
    "    name=t.text_content()\n",
    "    col.append((name,[]))"
   ]
  },
  {
   "cell_type": "markdown",
   "metadata": {},
   "source": [
    "Processing the body"
   ]
  },
  {
   "cell_type": "code",
   "execution_count": 1706,
   "metadata": {},
   "outputs": [],
   "source": [
    "#Since out first row is the header, data is stored on the second row onwards\n",
    "for j in range(table_starts_at+1,len(tr_elements)):\n",
    "    #T is our j'th row\n",
    "    T=tr_elements[j]\n",
    "    \n",
    "    #If row is not of size 6, the //tr data is not from our table \n",
    "    if len(T)!=6:\n",
    "        print('Length of row {} is different from 6 cells'.format(j-table_starts_at))\n",
    "        break\n",
    "    \n",
    "    #i is the index of our column\n",
    "    i=0\n",
    "    \n",
    "    #Iterate through each element of the row\n",
    "    for t in T.iterchildren():\n",
    "        data=t.text_content() \n",
    "        #Check if row is empty\n",
    "        if i>0:\n",
    "        #Convert any numerical value to integers\n",
    "            try:\n",
    "                data=int(data)\n",
    "            except:\n",
    "                pass\n",
    "        #Append the data to the empty list of the i'th column\n",
    "        col[i][1].append(data)\n",
    "        #Increment i for the next column\n",
    "        i+=1"
   ]
  },
  {
   "cell_type": "markdown",
   "metadata": {},
   "source": [
    "Sanity check"
   ]
  },
  {
   "cell_type": "code",
   "execution_count": 1707,
   "metadata": {},
   "outputs": [
    {
     "data": {
      "text/plain": [
       "[25, 25, 25, 25, 25, 25]"
      ]
     },
     "execution_count": 1707,
     "metadata": {},
     "output_type": "execute_result"
    }
   ],
   "source": [
    "#Check the length of each column\n",
    "[len(C) for (title,C) in col]"
   ]
  },
  {
   "cell_type": "markdown",
   "metadata": {},
   "source": [
    "Dataframe"
   ]
  },
  {
   "cell_type": "code",
   "execution_count": 1708,
   "metadata": {},
   "outputs": [
    {
     "data": {
      "text/plain": [
       "[('Dátum[173]\\n',\n",
       "  ['2020‑03‑04',\n",
       "   '2020-03-05',\n",
       "   '2020-03-06',\n",
       "   '2020-03-07',\n",
       "   '2020-03-08',\n",
       "   '2020-03-09',\n",
       "   '2020-03-10',\n",
       "   '2020-03-11',\n",
       "   '2020-03-12',\n",
       "   '2020-03-13',\n",
       "   '2020-03-14',\n",
       "   '2020-03-15',\n",
       "   '2020-03-16',\n",
       "   '2020-03-17',\n",
       "   '2020-03-18',\n",
       "   '2020-03-19',\n",
       "   '2020-03-20',\n",
       "   '2020-03-21',\n",
       "   '2020-03-22',\n",
       "   '2020-03-23',\n",
       "   '2020-03-24',\n",
       "   '2020-03-25',\n",
       "   '2020-03-26',\n",
       "   '2020-03-27',\n",
       "   '2020-03-28']),\n",
       " ('Regisztrált fertőzött\\n',\n",
       "  [2,\n",
       "   4,\n",
       "   4,\n",
       "   5,\n",
       "   7,\n",
       "   9,\n",
       "   12,\n",
       "   13,\n",
       "   15,\n",
       "   18,\n",
       "   29,\n",
       "   30,\n",
       "   36,\n",
       "   47,\n",
       "   55,\n",
       "   70,\n",
       "   74,\n",
       "   92,\n",
       "   109,\n",
       "   138,\n",
       "   157,\n",
       "   195,\n",
       "   223,\n",
       "   256,\n",
       "   298]),\n",
       " ('Elhunyt\\n',\n",
       "  [0,\n",
       "   0,\n",
       "   0,\n",
       "   0,\n",
       "   0,\n",
       "   0,\n",
       "   0,\n",
       "   0,\n",
       "   0,\n",
       "   0,\n",
       "   0,\n",
       "   1,\n",
       "   1,\n",
       "   1,\n",
       "   1,\n",
       "   1,\n",
       "   4,\n",
       "   4,\n",
       "   6,\n",
       "   8,\n",
       "   9,\n",
       "   10,\n",
       "   10,\n",
       "   10,\n",
       "   11]),\n",
       " ('Gyógyult\\n',\n",
       "  [0,\n",
       "   0,\n",
       "   0,\n",
       "   0,\n",
       "   0,\n",
       "   0,\n",
       "   0,\n",
       "   0,\n",
       "   1,\n",
       "   1,\n",
       "   1,\n",
       "   1,\n",
       "   2,\n",
       "   2,\n",
       "   2,\n",
       "   2,\n",
       "   7,\n",
       "   7,\n",
       "   16,\n",
       "   21,\n",
       "   21,\n",
       "   21,\n",
       "   28,\n",
       "   34,\n",
       "   34]),\n",
       " ('Összesen\\n',\n",
       "  [2,\n",
       "   4,\n",
       "   4,\n",
       "   5,\n",
       "   7,\n",
       "   9,\n",
       "   12,\n",
       "   13,\n",
       "   16,\n",
       "   19,\n",
       "   30,\n",
       "   32,\n",
       "   39,\n",
       "   50,\n",
       "   58,\n",
       "   73,\n",
       "   85,\n",
       "   103,\n",
       "   131,\n",
       "   167,\n",
       "   187,\n",
       "   226,\n",
       "   261,\n",
       "   300,\n",
       "   343]),\n",
       " ('Megjegyzés\\n',\n",
       "  ['Orbán Viktor miniszterelnök rendkívüli bejelentése: két új koronavírussal (SARS-CoV-2) fertőzött beteg van Magyarországon.[174]\\n',\n",
       "   '\\n',\n",
       "   '39 ember karanténban, és 269 mintavétel történt.[175]\\n',\n",
       "   '\\n',\n",
       "   'A hét beteg közül 4 iráni, 1 brit, és 2 magyar állampolgár.[176]\\n',\n",
       "   '\\n',\n",
       "   '\\n',\n",
       "   '\\n',\n",
       "   'Szlávik János a Dél-pesti Centrumkórház infektológiai osztályának vezetője közölte, hogy meggyógyult az egyik, karanténban lévő iráni állampolgár. A sorozatban elvégzett tesztjei negatívak lettek.[177]\\n',\n",
       "   '\\n',\n",
       "   '\\n',\n",
       "   'Egy 75 éves magyar férfi elhunyt a SARS-CoV-2 fertőzés következtében kialakult COVID-19 betegségben.[4]\\n',\n",
       "   'A második gyógyult beteg, egy iráni állampolgár elhagyhatta a karanténkórházat.[178]\\n',\n",
       "   'A fertőzöttetek száma elérte az 50-et, közülük 9 iráni, 1 brit, 1 kazah és 39 magyar állampolgár. 16-án a második iráni gyógyult is távozott a kórházból. [179]\\n',\n",
       "   'Az 58 igazolt fertőzött közül 47 magyar, 9 iráni, 1 brit, 1 pedig kazah állampolgár.[180]\\n',\n",
       "   'A 73 igazolt fertőzött közül 9 iráni, 1 brit, 1 kazah és 62 magyar állampolgár.[181] Hat fertőzött beteg van súlyos állapotban, akiket intenzív osztályon kezelnek a Dél-Pesti Centrumkórházban.[182]\\n',\n",
       "   'A 85 igazolt fertőzött közül 10 iráni, 1 brit, 1 kazah és 73 magyar állampolgár.[183] Az esetek közül 6 súlyos, és hét gyógyult.[184] A nap folyamán 2 fertőzött személy, egy 79 éves és egy 68 éves magyar férfi elhunyt.[185] Este egy 53 éves magyar férfi hunyt el, aki többszörös krónikus betegségben szenvedett.[186]\\n',\n",
       "   'A fertőzöttek száma: 103 fő. Közülük 10 iráni, 2 brit, 1 kazah, 1 vietnámi és 89 magyar állampolgár.[187]\\n',\n",
       "   'A beazonosított fertőzöttek száma: 131 fő. Közülük 10 iráni, 2 brit, 1 kazah, 1 vietnámi és 117 magyar állampolgár. Újabb 4 gyógyult távozhatott a budapesti Szent László Kórházból.[188][189] Egy 65 éves és egy 75 éves magyar nő hunyt el a fertőzés következtében.[190]\\n',\n",
       "   'A csoportos megbetegedések szakaszához ért a járvány. Újabb idős betegek haltak meg. A beazonosított fertőzöttek közül 10 iráni, 2 brit, 1 kazah, 1 vietnámi és 153 magyar állampolgár.[191]\\n',\n",
       "   'A beazonosított fertőzöttek közül 10 iráni, 2 brit, 1 kazah, 1 vietnámi és 173 magyar állampolgár.[192] Egy fiatalabb női beteg, aki számos krónikus megbetegedéssel, köztük szív- és keringési betegségekkel és több más anyagcsere-betegséggel küzdött, elhunyt.[193]\\n',\n",
       "   'A fertőzöttek közül 10 iráni, 2 brit, 1 kazah, 1 vietnámi és 212 magyar állampolgár. Az elhunyt férfi beteg Steven Dick budapesti brit nagykövethelyettes volt.[194][195]\\n',\n",
       "   '\\n',\n",
       "   '\\n',\n",
       "   '\\n'])]"
      ]
     },
     "execution_count": 1708,
     "metadata": {},
     "output_type": "execute_result"
    }
   ],
   "source": [
    "col"
   ]
  },
  {
   "cell_type": "code",
   "execution_count": 1709,
   "metadata": {},
   "outputs": [
    {
     "name": "stdout",
     "output_type": "stream",
     "text": [
      "8209\n",
      "45\n"
     ]
    }
   ],
   "source": [
    "Dict={title:column for (title,column) in col}\n",
    "df=pd.DataFrame(Dict)\n",
    "\n",
    "# English header\n",
    "df.columns = ['Date', 'Sick','Died','Recovered','Total','Note']\n",
    "\n",
    "#It might look insane but the two '-'-s are different and caused a lot of troubles when converting to datetime\n",
    "df['Date'] = pd.to_datetime(df['Date'].str.replace('‑','-'))\n",
    "print(ord(u\"‑\"))\n",
    "print(ord(u\"-\"))\n",
    "\n",
    "# Store the number of days since onset\n",
    "df.reset_index(inplace=True)\n",
    "df.set_index('Date',inplace=True)\n",
    "\n",
    "df.rename(columns={ df.columns[0]: \"Day\" }, inplace = True)"
   ]
  },
  {
   "cell_type": "markdown",
   "metadata": {},
   "source": [
    "Let's see the data"
   ]
  },
  {
   "cell_type": "code",
   "execution_count": 1710,
   "metadata": {},
   "outputs": [
    {
     "data": {
      "text/plain": [
       "(array([18325, 18349], dtype=int64), <a list of 2 Text xticklabel objects>)"
      ]
     },
     "execution_count": 1710,
     "metadata": {},
     "output_type": "execute_result"
    },
    {
     "data": {
      "image/png": "[encoded data removed]",
      "text/plain": [
       "<Figure size 720x360 with 1 Axes>"
      ]
     },
     "metadata": {
      "needs_background": "light"
     },
     "output_type": "display_data"
    }
   ],
   "source": [
    "df.plot(figsize=(10,5))\n",
    "plt.xlabel('Date')\n",
    "plt.ylabel('Num. of patients')\n",
    "plt.title('Number of Covid-19 patients in Hungary')\n",
    "degrees = 70\n",
    "plt.xticks(rotation=degrees)"
   ]
  },
  {
   "cell_type": "markdown",
   "metadata": {},
   "source": [
    "Import number of test from Excel sheet"
   ]
  },
  {
   "cell_type": "code",
   "execution_count": 1711,
   "metadata": {},
   "outputs": [
    {
     "data": {
      "text/plain": [
       "<matplotlib.axes._subplots.AxesSubplot at 0x25d1c2e0588>"
      ]
     },
     "execution_count": 1711,
     "metadata": {},
     "output_type": "execute_result"
    },
    {
     "data": {
      "image/png": "[encoded data removed]",
      "text/plain": [
       "<Figure size 720x360 with 1 Axes>"
      ]
     },
     "metadata": {
      "needs_background": "light"
     },
     "output_type": "display_data"
    }
   ],
   "source": [
    "tested = pd.read_excel (r'korona.xlsx',skiprows=3, usecols=[0,10])\n",
    "tested.columns = ['Date', 'Tested']\n",
    "tested.set_index('Date',inplace=True)\n",
    "\n",
    "tested.plot(figsize=(10,5))"
   ]
  },
  {
   "cell_type": "markdown",
   "metadata": {},
   "source": [
    "Join the two DataFrames"
   ]
  },
  {
   "cell_type": "code",
   "execution_count": 1712,
   "metadata": {},
   "outputs": [],
   "source": [
    "df = pd.merge(df, tested, left_index=True,  right_index=True, how='left')"
   ]
  },
  {
   "cell_type": "markdown",
   "metadata": {},
   "source": [
    "# Curve fitting"
   ]
  },
  {
   "cell_type": "markdown",
   "metadata": {},
   "source": [
    "Exponential"
   ]
  },
  {
   "cell_type": "code",
   "execution_count": 1713,
   "metadata": {},
   "outputs": [],
   "source": [
    "parameters_exp, pcov_exp  = opt.curve_fit(f_exp, df['Day'].to_numpy()+1, df['Total'].to_numpy())\n",
    "perr_exp = np.sqrt(np.diag(pcov_exp))\n",
    "\n",
    "extrapol_horizon = 3\n",
    "long_extrapol_horizon = 14\n",
    "\n",
    "fitting_horizon = np.array(range(1,np.max(df['Day'].to_numpy()+2)+extrapol_horizon))\n",
    "long_fitting_horizon = np.array(range(1,np.max(df['Day'].to_numpy()+2)+long_extrapol_horizon))\n",
    "\n",
    "y_fit_exp = f_exp(fitting_horizon, *parameters_exp)\n",
    "long_y_fit_exp = f_exp(long_fitting_horizon, *parameters_exp)\n",
    "\n",
    "#Fit a version on older data to see the changes of predictions\n",
    "parameters_exp_old, pcov_exp_old  = opt.curve_fit(f_exp, df['Day'].to_numpy()[:-5]+1, df['Total'].to_numpy()[:-5])\n",
    "long_y_fit_exp_old = f_exp(long_fitting_horizon, *parameters_exp_old)\n",
    "\n",
    "#Dates\n",
    "times = pd.date_range('2020-03-04', periods=len(df['Day'])+extrapol_horizon, freq='D')\n",
    "long_times = pd.date_range('2020-03-04', periods=len(df['Day'])+long_extrapol_horizon, freq='D')"
   ]
  },
  {
   "cell_type": "code",
   "execution_count": 1714,
   "metadata": {},
   "outputs": [
    {
     "data": {
      "text/plain": [
       "array([4.70171967, 0.1733949 ])"
      ]
     },
     "execution_count": 1714,
     "metadata": {},
     "output_type": "execute_result"
    }
   ],
   "source": [
    "parameters_exp"
   ]
  },
  {
   "cell_type": "code",
   "execution_count": 1715,
   "metadata": {},
   "outputs": [
    {
     "data": {
      "text/plain": [
       "array([2.60675209, 0.20682873])"
      ]
     },
     "execution_count": 1715,
     "metadata": {},
     "output_type": "execute_result"
    }
   ],
   "source": [
    "parameters_exp_old"
   ]
  },
  {
   "cell_type": "markdown",
   "metadata": {},
   "source": [
    "Confidece intervals"
   ]
  },
  {
   "cell_type": "code",
   "execution_count": 1716,
   "metadata": {},
   "outputs": [],
   "source": [
    "# prepare confidence level curves\n",
    "nstd = 1. # to draw 1-sigma intervals\n",
    "parameters_exp_up = parameters_exp + nstd * perr_exp\n",
    "parameters_exp_dw = parameters_exp - nstd * perr_exp\n",
    "\n",
    "fit_up = f_exp(fitting_horizon, *parameters_exp_up)\n",
    "fit_dw = f_exp(fitting_horizon, *parameters_exp_dw)"
   ]
  },
  {
   "cell_type": "code",
   "execution_count": 1717,
   "metadata": {},
   "outputs": [
    {
     "data": {
      "text/plain": [
       "array([4.29336542, 0.16958071])"
      ]
     },
     "execution_count": 1717,
     "metadata": {},
     "output_type": "execute_result"
    }
   ],
   "source": [
    "parameters_exp_dw"
   ]
  },
  {
   "cell_type": "code",
   "execution_count": 1718,
   "metadata": {},
   "outputs": [
    {
     "data": {
      "text/plain": [
       "array([4.70171967, 0.1733949 ])"
      ]
     },
     "execution_count": 1718,
     "metadata": {},
     "output_type": "execute_result"
    }
   ],
   "source": [
    "parameters_exp"
   ]
  },
  {
   "cell_type": "markdown",
   "metadata": {},
   "source": [
    "Logistic"
   ]
  },
  {
   "cell_type": "code",
   "execution_count": 1719,
   "metadata": {},
   "outputs": [],
   "source": [
    "#parameters_logit = np.array([1200,1000,0.26])\n",
    "# a is the final epidemic size\n",
    "# b is related to C0, doesn't affect the later evlution of the process \n",
    "# c is the growth rate at the early stage\n",
    "\n",
    "parameters_logit, pcov_logit  = opt.curve_fit(f_logit, df['Day'].to_numpy()+1, df['Total'].to_numpy(),bounds=([100,100,0.2], [10e6,10e6,0.3]))\n",
    "perr_logit = np.sqrt(np.diag(pcov_logit))\n",
    "\n",
    "y_fit_logit = f_logit(fitting_horizon, *parameters_logit)\n",
    "long_y_fit_logit = f_logit(long_fitting_horizon, *parameters_logit)\n",
    "\n",
    "# #Fit a version on older data to see the changes of predictions\n",
    "parameters_logit_old, pcov_logit_old  = opt.curve_fit(f_logit, df['Day'].to_numpy()[:-5]+1, df['Total'].to_numpy()[:-5])\n",
    "long_y_fit_logit_old = f_logit(long_fitting_horizon, *parameters_logit_old)"
   ]
  },
  {
   "cell_type": "code",
   "execution_count": 1720,
   "metadata": {},
   "outputs": [
    {
     "data": {
      "text/plain": [
       "array([7.55052146e+02, 3.59204339e+02, 2.28064035e-01])"
      ]
     },
     "execution_count": 1720,
     "metadata": {},
     "output_type": "execute_result"
    }
   ],
   "source": [
    "parameters_logit"
   ]
  },
  {
   "cell_type": "code",
   "execution_count": 1721,
   "metadata": {},
   "outputs": [
    {
     "data": {
      "text/plain": [
       "array([2.34512317e+09, 8.99634205e+08, 2.06828734e-01])"
      ]
     },
     "execution_count": 1721,
     "metadata": {},
     "output_type": "execute_result"
    }
   ],
   "source": [
    "parameters_logit_old"
   ]
  },
  {
   "cell_type": "code",
   "execution_count": 1722,
   "metadata": {},
   "outputs": [
    {
     "data": {
      "text/plain": [
       "array([2.81309030e+03, 2.75301503e+02, 3.04155086e-05])"
      ]
     },
     "execution_count": 1722,
     "metadata": {},
     "output_type": "execute_result"
    }
   ],
   "source": [
    "np.diag(pcov_logit)"
   ]
  },
  {
   "cell_type": "markdown",
   "metadata": {},
   "source": [
    "Richards' Model (RM) - This is practically identical to the Logistic Model"
   ]
  },
  {
   "cell_type": "code",
   "execution_count": 1723,
   "metadata": {},
   "outputs": [],
   "source": [
    "#f_RM(x, K, Q, r, nu)\n",
    "parameters_RM, pcov_RM  = opt.curve_fit(f_RM, df['Day'].to_numpy()+1, df['Total'].to_numpy(),bounds=([100,100,0.2,0.5], [10e6,10e6,0.3,0.99]))\n",
    "#perr_RM = np.sqrt(np.diag(pcov_RM))"
   ]
  },
  {
   "cell_type": "code",
   "execution_count": 1724,
   "metadata": {},
   "outputs": [
    {
     "data": {
      "text/plain": [
       "array([7.60746508e+02, 3.42407384e+02, 2.26187444e-01, 9.90000000e-01])"
      ]
     },
     "execution_count": 1724,
     "metadata": {},
     "output_type": "execute_result"
    }
   ],
   "source": [
    "parameters_RM"
   ]
  },
  {
   "cell_type": "markdown",
   "metadata": {},
   "source": [
    "Generalized Richards Model (GRM)\n",
    "\n",
    "Parameters guesses are based on Ke Wu et al. \n",
    "https://arxiv.org/ftp/arxiv/papers/2003/2003.05681.pdf"
   ]
  },
  {
   "cell_type": "code",
   "execution_count": 1725,
   "metadata": {},
   "outputs": [
    {
     "name": "stdout",
     "output_type": "stream",
     "text": [
      "0.23233611903562254\n"
     ]
    }
   ],
   "source": [
    "# C0 is the number of initial cases\n",
    "# K is the final epidemic size\n",
    "# r is the growth rate at the early stage\n",
    "# p is a parameter that allows the model to capture different growth profiles (e.g. sub-exp, exponential)\n",
    "# alpha measures the deviation from the symmetric s-shaped dynamics of the simple logistic curve\n",
    "\n",
    "C0 = df['Total'].to_numpy()[0]\n",
    "K = 1200 #Hopefully lower than the original Chinese (excl. Hubei) sample K~13.000 in Ke Wu et al.\n",
    "\n",
    "r_empiricial = (np.log(df['Total'].to_numpy()[18])-np.log(df['Total'].to_numpy()[0]))/18\n",
    "print(r_empiricial)\n",
    "r = 0.23 #4.87 in Ke Wu et al. \n",
    "\n",
    "p = 1 #0.63 in Ke Wu et al., p=1 logistic case \n",
    "alpha = 1 #1.42 in Ke Wu et al., alpha=1 logistic case  \n",
    "\n",
    "parameters_GRM = (C0,K,r,p,alpha)\n",
    "parameters_GRM, pcov_GRM  = opt.curve_fit(f_GRM, df['Day'].to_numpy()+1, df['Total'].to_numpy(),p0=parameters_GRM,bounds=([1.99,100,0.2,0.5,0.5], [2,10e6,5,1,5]))\n",
    "\n",
    "y_fit_GRM = f_GRM(fitting_horizon, *parameters_GRM)\n",
    "long_y_fit_GRM = f_GRM(long_fitting_horizon, *parameters_GRM)"
   ]
  },
  {
   "cell_type": "code",
   "execution_count": 1726,
   "metadata": {},
   "outputs": [
    {
     "data": {
      "text/plain": [
       "array([2.00000000e+00, 4.89054015e+02, 3.42565182e-01, 9.03720536e-01,\n",
       "       2.29724856e+00])"
      ]
     },
     "execution_count": 1726,
     "metadata": {},
     "output_type": "execute_result"
    }
   ],
   "source": [
    "parameters_GRM"
   ]
  },
  {
   "cell_type": "code",
   "execution_count": 1727,
   "metadata": {},
   "outputs": [
    {
     "data": {
      "text/plain": [
       "0.23233611903562254"
      ]
     },
     "execution_count": 1727,
     "metadata": {},
     "output_type": "execute_result"
    }
   ],
   "source": [
    "r_empiricial"
   ]
  },
  {
   "cell_type": "markdown",
   "metadata": {},
   "source": [
    "# Plots"
   ]
  },
  {
   "cell_type": "markdown",
   "metadata": {},
   "source": [
    "Generate ldate labels"
   ]
  },
  {
   "cell_type": "code",
   "execution_count": 1737,
   "metadata": {},
   "outputs": [],
   "source": [
    "observed_dates = times[:len(df['Total'])].strftime(\"%m/%d\")\n",
    "all_dates = times.strftime(\"%m/%d\")\n",
    "long_all_dates = long_times.strftime(\"%m/%d\")"
   ]
  },
  {
   "cell_type": "markdown",
   "metadata": {},
   "source": [
    "Plotting"
   ]
  },
  {
   "cell_type": "code",
   "execution_count": 1789,
   "metadata": {},
   "outputs": [
    {
     "data": {
      "image/png": "[encoded data removed]",
      "text/plain": [
       "<Figure size 1080x648 with 7 Axes>"
      ]
     },
     "metadata": {
      "needs_background": "light"
     },
     "output_type": "display_data"
    }
   ],
   "source": [
    "degrees = 70\n",
    "\n",
    "fig = plt.figure(figsize=(15, 9),constrained_layout=True)\n",
    "gs = fig.add_gridspec(3, 9)\n",
    "\n",
    "ax1= fig.add_subplot(gs[:2, 5:9])\n",
    "ax1.plot(observed_dates,df['Total'],linewidth=4,label='Confirmed cases')\n",
    "ax1.plot(long_all_dates,long_y_fit_exp,color='orange',label='Exponential (latest)')\n",
    "ax1.plot(long_all_dates,long_y_fit_logit,color='green',label='Logistic curve')\n",
    "ax1.plot(long_all_dates,long_y_fit_GRM,color='red',label='GRM curve')\n",
    "\n",
    "ax1.plot(long_all_dates,long_y_fit_exp_old,'--',color='orange',label='Exponential (5-days old)',alpha=0.6)\n",
    "ax1.plot(long_all_dates,long_y_fit_logit_old,'--',color='green',label='Logistic (5-days old)',alpha=0.6)\n",
    "\n",
    "ax1.set_xticks(ax1.get_xticks()[::5])\n",
    "ax1.set_xticklabels(long_all_dates[::5],rotation=degrees)\n",
    "ax1.set(xlabel='Date')\n",
    "\n",
    "ax1.legend(loc='best')\n",
    "\n",
    "ax1.axvline(long_all_dates[-long_extrapol_horizon-1],linestyle='dashed',linewidth=1,label='Today')\n",
    "ax1.annotate('Today',xy=(long_all_dates[-long_extrapol_horizon-1],5))\n",
    "ax1.set(ylabel='Estimated num. of cases')\n",
    "ax1.set(title='Predicted number of Covid-19 patients')\n",
    "\n",
    "\n",
    "ax1.annotate('${}*e^{{ {}x}}$'.format(round(parameters_exp[0],2),round(parameters_exp[1],2)),xy=(long_all_dates[-1:],long_y_fit_exp[-1:]),fontsize=12)\n",
    "ax1.annotate('${}*e^{{ {}x}}$'.format(round(parameters_exp_old[0],2),round(parameters_exp_old[1],2)),xy=(long_all_dates[-1:],long_y_fit_exp_old[-1:]),fontsize=12)\n",
    "ax1.annotate('$\\\\frac{{ {} }}{{ 1+{}*exp(-{}x) }}$'.format(round(parameters_logit[0],2),round(parameters_logit[1],2),round(parameters_logit[2],2)),xy=(long_all_dates[-1:],long_y_fit_logit[-1:]),fontsize=12)\n",
    "\n",
    "\n",
    "#ax1.set_yscale('log')\n",
    "\n",
    "\n",
    "#--------------------\n",
    "\n",
    "ax2 = fig.add_subplot(gs[0, 0:5])\n",
    "ax2.plot(observed_dates,df['Total'],linewidth=4,label='Confirmed cases')\n",
    "ax2.get_xaxis().set_ticks([])\n",
    "\n",
    "ax2.set(ylabel='Num. of cases')\n",
    "ax2.set(title='Total number of Covid-19 patients in Hungary')\n",
    "\n",
    "\n",
    "ax2.plot(all_dates,y_fit_exp,'--',label='Exponential curve')\n",
    "ax2.plot(all_dates,y_fit_logit,'--',label='Logistic curve')\n",
    "ax2.plot(all_dates,y_fit_GRM,'--',label='GRM curve')\n",
    "\n",
    "for i,j in zip(all_dates[-extrapol_horizon:],y_fit_logit[-extrapol_horizon:]):\n",
    "    ax2.annotate(str(round(j)),xy=(i,j),fontsize=12,\n",
    "                 horizontalalignment='right',\n",
    "                 verticalalignment='top',\n",
    "                 xytext=(-40, j-y_fit_logit[-extrapol_horizon]), \n",
    "                 textcoords='offset points',\n",
    "                 arrowprops=dict(facecolor='black', shrink=0.05, width=1),)\n",
    "              \n",
    "\n",
    "ax2.fill_between(all_dates, fit_up, fit_dw, alpha=.25, label='1-sigma interval',color='orange')\n",
    "#ax2.set_yscale('log')\n",
    "ax2.legend(loc='best')\n",
    "\n",
    "ax2.axvline(all_dates[-extrapol_horizon-1],linestyle='dashed',linewidth=1,label='Today')\n",
    "ax2.annotate('Today',xy=(all_dates[-extrapol_horizon-1],5))\n",
    "\n",
    "#ax2.annotate('${}*exp({}*x)$'.format(round(parameters_exp[0],2),round(parameters_exp[1],2)),xy=(all_dates[-4],fit_dw[-4]))\n",
    "\n",
    "#--------------------\n",
    "\n",
    "ax3 = fig.add_subplot(gs[1, 0:5])\n",
    "ax3.bar(all_dates,np.concatenate((df['Total'].diff(), np.full(len(all_dates)-len(observed_dates), 0)), axis=0),label='Confirmed new cases')\n",
    "ax3.plot(all_dates,np.concatenate(([np.nan],np.diff(y_fit_exp))),'--',color='orange',marker='o',label='Exponential')\n",
    "ax3.plot(all_dates,np.concatenate(([np.nan],np.diff(y_fit_logit))),'g--',marker='o',label='Logistic')\n",
    "ax3.plot(all_dates,np.concatenate(([np.nan],np.diff(y_fit_GRM))),'r--',marker='o',label='GRM')\n",
    "ax3.get_xaxis().set_ticks([])\n",
    "\n",
    "ax3.annotate('${}*C(t)^{{ {} }}*\\\\left(1-\\\\left( \\\\frac{{C(t)}} {{ {} }} \\\\right)^{{ {} }} \\\\right)$'.format(round(parameters_GRM[2],2),round(parameters_GRM[3],2),round(parameters_GRM[1],1),round(parameters_GRM[4],2)),\n",
    "            xy=(all_dates[-1:],np.diff(y_fit_GRM)[-1:]),\n",
    "            fontsize=12,\n",
    "            xytext=(0.8, 0.95), \n",
    "            textcoords='axes fraction',\n",
    "            arrowprops=dict(facecolor='black', shrink=0.05, width=1),\n",
    "            horizontalalignment='right', verticalalignment='top')\n",
    "\n",
    "ax3.set(ylabel='Num. of NEW cases')\n",
    "ax3.set(title='Velocity of contagion')\n",
    "ax3.set_xticklabels(all_dates,rotation=degrees)\n",
    "\n",
    "ax3.legend(loc='upper left')\n",
    "\n",
    "#--------------------\n",
    "\n",
    "ax4 = fig.add_subplot(gs[2, 0:5])\n",
    "ax4.bar(all_dates,np.nan_to_num(np.concatenate((df['Tested'].diff(), np.full(len(all_dates)-len(observed_dates), 0)))),color='orange',label='New tests')\n",
    "ax5 = ax4.twinx()\n",
    "ax5.plot(all_dates,np.concatenate(((df['Tested'].diff()/df['Total'].diff()), np.full(len(all_dates)-len(observed_dates), np.nan)), axis=0),marker='o',label='Daily cases / tests')\n",
    "\n",
    "ax5.annotate(str(round((df['Tested'].diff()/df['Total'].diff())[-1])),\n",
    "            xy=(all_dates[-3],(df['Tested'].diff()/df['Total'].diff())[-1]),\n",
    "            fontsize=12,)\n",
    "\n",
    "\n",
    "lines_1, labels_1 = ax4.get_legend_handles_labels()\n",
    "lines_2, labels_2 = ax5.get_legend_handles_labels()\n",
    "\n",
    "lines = lines_1 + lines_2\n",
    "labels = labels_1 + labels_2\n",
    "\n",
    "ax5.legend(lines, labels, loc='upper left')\n",
    "\n",
    "ax4.set(xlabel='Date')\n",
    "ax4.set(ylabel='Num. of NEW test')\n",
    "ax5.set(ylabel='Daily tests / cases')\n",
    "ax4.set(title='Number of tests performed')\n",
    "ax4.set_xticklabels(all_dates,rotation=degrees)\n",
    "\n",
    "#--------------------\n",
    "\n",
    "ax6 = fig.add_subplot(gs[2, 5:9])\n",
    "ax6.bar(all_dates,np.nan_to_num(np.concatenate((df['Tested'], np.full(len(all_dates)-len(observed_dates), 0)))),color='orange',label='Total tests')\n",
    "ax7 = ax6.twinx()\n",
    "ax7.plot(all_dates,np.concatenate(((df['Tested']/df['Total']), np.full(len(all_dates)-len(observed_dates), np.nan)), axis=0),marker='o',label='Total cases / tests')\n",
    "\n",
    "\n",
    "lines_1, labels_1 = ax6.get_legend_handles_labels()\n",
    "lines_2, labels_2 = ax7.get_legend_handles_labels()\n",
    "\n",
    "lines = lines_1 + lines_2\n",
    "labels = labels_1 + labels_2\n",
    "\n",
    "ax6.legend(lines, labels, loc='upper left')\n",
    "\n",
    "ax6.set_xticks(ax6.get_xticks()[::5])\n",
    "ax6.set_xticklabels(all_dates[::5],rotation=degrees)\n",
    "#ax7.set_xticks(ax7.get_xticks())\n",
    "ax6.set(xlabel='Date')\n",
    "\n",
    "ax6.set(xlabel='Date')\n",
    "ax6.set(ylabel='Cum. number of tests')\n",
    "ax7.set(ylabel='Total tests / cases')\n",
    "ax6.set(title='Cum. number of tests performed')\n",
    "\n",
    "plt.rc('axes', labelsize=12)  "
   ]
  },
  {
   "cell_type": "code",
   "execution_count": 1773,
   "metadata": {},
   "outputs": [
    {
     "data": {
      "text/plain": [
       "Index(['03/04', '03/09', '03/14', '03/19', '03/24', '03/29'], dtype='object')"
      ]
     },
     "execution_count": 1773,
     "metadata": {},
     "output_type": "execute_result"
    }
   ],
   "source": [
    "all_dates[::5]"
   ]
  },
  {
   "cell_type": "code",
   "execution_count": 1774,
   "metadata": {},
   "outputs": [
    {
     "data": {
      "text/plain": [
       "[Text(0, 0, '03/04'),\n",
       " Text(5, 0, '03/09'),\n",
       " Text(10, 0, '03/14'),\n",
       " Text(15, 0, '03/19'),\n",
       " Text(20, 0, '03/24'),\n",
       " Text(25, 0, '03/29')]"
      ]
     },
     "execution_count": 1774,
     "metadata": {},
     "output_type": "execute_result"
    }
   ],
   "source": [
    "ax6.set_xticklabels(all_dates[::5],rotation=degrees)"
   ]
  },
  {
   "cell_type": "code",
   "execution_count": 1785,
   "metadata": {},
   "outputs": [
    {
     "data": {
      "text/plain": [
       "Date\n",
       "2020-03-04          NaN\n",
       "2020-03-05          NaN\n",
       "2020-03-06          NaN\n",
       "2020-03-07          NaN\n",
       "2020-03-08          NaN\n",
       "2020-03-09          NaN\n",
       "2020-03-10          NaN\n",
       "2020-03-11     5.744186\n",
       "2020-03-12     2.813953\n",
       "2020-03-13     2.976744\n",
       "2020-03-14     3.627907\n",
       "2020-03-15     5.162791\n",
       "2020-03-16     4.651163\n",
       "2020-03-17     3.511628\n",
       "2020-03-18     5.023256\n",
       "2020-03-19    12.069767\n",
       "2020-03-20    15.930233\n",
       "2020-03-21    10.232558\n",
       "2020-03-22    23.162791\n",
       "2020-03-23    24.930233\n",
       "2020-03-24    13.906977\n",
       "2020-03-25    16.372093\n",
       "2020-03-26    27.627907\n",
       "2020-03-27    29.534884\n",
       "2020-03-28    23.906977\n",
       "Name: Tested, dtype: float64"
      ]
     },
     "execution_count": 1785,
     "metadata": {},
     "output_type": "execute_result"
    }
   ],
   "source": [
    "df['Tested'].diff()/df['Total'].diff()[-1]"
   ]
  }
 ],
 "metadata": {
  "kernelspec": {
   "display_name": "Python 3",
   "language": "python",
   "name": "python3"
  },
  "language_info": {
   "codemirror_mode": {
    "name": "ipython",
    "version": 3
   },
   "file_extension": ".py",
   "mimetype": "text/x-python",
   "name": "python",
   "nbconvert_exporter": "python",
   "pygments_lexer": "ipython3",
   "version": "3.7.3"
  }
 },
 "nbformat": 4,
 "nbformat_minor": 2
}
